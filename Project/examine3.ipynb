{
 "cells": [
  {
   "cell_type": "code",
   "execution_count": null,
   "metadata": {},
   "outputs": [],
   "source": [
    "import pandas as pd\n",
    "import numpy as np"
   ]
  },
  {
   "cell_type": "code",
   "execution_count": null,
   "metadata": {},
   "outputs": [],
   "source": [
    "line1 = pd.read_csv(\"./dataProcessed/line_1_data.csv\")\n",
    "line4 = pd.read_csv(\"./dataProcessed/line_4_data.csv\")\n",
    "lineAir = pd.read_csv(\"./dataProcessed/line_air_data.csv\")\n",
    "lineGyeongui = pd.read_csv(\"./dataProcessed/line_gyeongui_data.csv\")"
   ]
  },
  {
   "cell_type": "code",
   "execution_count": null,
   "metadata": {},
   "outputs": [],
   "source": [
    "line1.isnull().sum()"
   ]
  },
  {
   "cell_type": "code",
   "execution_count": null,
   "metadata": {},
   "outputs": [],
   "source": [
    "line4.isnull().sum()"
   ]
  },
  {
   "cell_type": "code",
   "execution_count": null,
   "metadata": {},
   "outputs": [],
   "source": [
    "lineAir.isnull().sum()"
   ]
  },
  {
   "cell_type": "code",
   "execution_count": null,
   "metadata": {},
   "outputs": [],
   "source": [
    "lineGyeongui.isnull().sum()"
   ]
  },
  {
   "cell_type": "code",
   "execution_count": null,
   "metadata": {},
   "outputs": [],
   "source": [
    "line1 = line1[['사용일자', '승차총승객수', '하차총승객수']]\n",
    "line4 = line4[['사용일자', '승차총승객수', '하차총승객수']]\n",
    "lineAir = lineAir[['사용일자', '승차총승객수', '하차총승객수']]\n",
    "lineGyeongui = lineGyeongui[['사용일자', '승차총승객수', '하차총승객수']]"
   ]
  },
  {
   "cell_type": "code",
   "execution_count": null,
   "metadata": {},
   "outputs": [],
   "source": [
    "df = pd.merge(line1, line4, how='outer', on='사용일자')\n",
    "df.head(10)"
   ]
  },
  {
   "cell_type": "code",
   "execution_count": null,
   "metadata": {},
   "outputs": [],
   "source": [
    "df = df.rename(columns={'승차총승객수_x':'1호선승차', '하차총승객수_x' : '1호선하차', \n",
    "                        '승차총승객수_y':'4호선승차', '하차총승객수_y' : '4호선하차'})"
   ]
  },
  {
   "cell_type": "code",
   "execution_count": null,
   "metadata": {},
   "outputs": [],
   "source": [
    "df.head(10)"
   ]
  },
  {
   "cell_type": "code",
   "execution_count": null,
   "metadata": {},
   "outputs": [],
   "source": [
    "lineAir = lineAir.rename(columns={'승차총승객수' : '공항철도승차', '하차총승객수' : '공항철도하차'} )\n",
    "lineGyeongui = lineGyeongui.rename(columns={'승차총승객수' : '경의선승차', '하차총승객수' : '경의선하차'} )"
   ]
  },
  {
   "cell_type": "code",
   "execution_count": null,
   "metadata": {},
   "outputs": [],
   "source": [
    "df = pd.merge(df, lineAir, how='outer', on='사용일자')\n",
    "df.head(10)"
   ]
  },
  {
   "cell_type": "code",
   "execution_count": null,
   "metadata": {},
   "outputs": [],
   "source": [
    "df = pd.merge(df, lineGyeongui, how='outer', on='사용일자')\n",
    "df.head(10)"
   ]
  },
  {
   "cell_type": "code",
   "execution_count": null,
   "metadata": {},
   "outputs": [],
   "source": [
    "df = df.rename(columns={\"탑승일자\" : \"사용일자\"})"
   ]
  },
  {
   "cell_type": "code",
   "execution_count": null,
   "metadata": {},
   "outputs": [],
   "source": [
    "df.isnull().sum()"
   ]
  },
  {
   "cell_type": "code",
   "execution_count": null,
   "metadata": {},
   "outputs": [],
   "source": [
    "df.to_csv(\"./dataProcessed/line_total.csv\")"
   ]
  },
  {
   "cell_type": "markdown",
   "metadata": {},
   "source": [
    "## 버전2 만들기"
   ]
  },
  {
   "cell_type": "code",
   "execution_count": null,
   "metadata": {},
   "outputs": [],
   "source": [
    "df2 = pd.DataFrame()\n",
    "df2['탑승일자'] = df['사용일자']\n",
    "df2['1호선'] = df['1호선승차'] + df['1호선하차']\n",
    "df2['4호선'] = df['4호선승차'] + df['4호선하차']\n",
    "df2['공항철도'] = df['공항철도승차'] + df['공항철도하차']\n",
    "df2['경의선'] = df['경의선승차'] + df['경의선하차']"
   ]
  },
  {
   "cell_type": "code",
   "execution_count": null,
   "metadata": {},
   "outputs": [],
   "source": [
    "df2.head(10)"
   ]
  },
  {
   "cell_type": "code",
   "execution_count": null,
   "metadata": {},
   "outputs": [],
   "source": [
    "df2.head(10)"
   ]
  },
  {
   "cell_type": "code",
   "execution_count": null,
   "metadata": {},
   "outputs": [],
   "source": [
    "precip = pd.read_csv(\"./dataProcessed/precipitation.csv\")\n",
    "temp = pd.read_csv(\"./dataProcessed/temperature.csv\")"
   ]
  },
  {
   "cell_type": "code",
   "execution_count": null,
   "metadata": {},
   "outputs": [],
   "source": [
    "df2.info()"
   ]
  },
  {
   "cell_type": "code",
   "execution_count": null,
   "metadata": {},
   "outputs": [],
   "source": [
    "precip.info()"
   ]
  },
  {
   "cell_type": "code",
   "execution_count": null,
   "metadata": {},
   "outputs": [],
   "source": [
    "temp.info()"
   ]
  },
  {
   "cell_type": "code",
   "execution_count": null,
   "metadata": {},
   "outputs": [],
   "source": [
    "df2 = pd.merge(df2, precip, how='outer', on='탑승일자')"
   ]
  },
  {
   "cell_type": "code",
   "execution_count": null,
   "metadata": {},
   "outputs": [],
   "source": [
    "df2 = df2.rename(columns={\"type\" : \"강수량범주\"})"
   ]
  },
  {
   "cell_type": "code",
   "execution_count": null,
   "metadata": {},
   "outputs": [],
   "source": [
    "df2 = pd.merge(df2, temp, how='outer', on='탑승일자')"
   ]
  },
  {
   "cell_type": "code",
   "execution_count": null,
   "metadata": {},
   "outputs": [],
   "source": [
    "df2.head(5)"
   ]
  },
  {
   "cell_type": "code",
   "execution_count": null,
   "metadata": {},
   "outputs": [],
   "source": [
    "busstop = pd.read_csv(\"./dataProcessed/busstop.csv\")\n",
    "print(busstop.info())\n",
    "print(busstop.head())"
   ]
  },
  {
   "cell_type": "code",
   "execution_count": null,
   "metadata": {},
   "outputs": [],
   "source": [
    "busstop['탑승일자'] = pd.to_datetime(busstop['탑승일자'])"
   ]
  },
  {
   "cell_type": "code",
   "execution_count": null,
   "metadata": {},
   "outputs": [],
   "source": [
    "busstop1 = busstop[busstop['버스정류장ARS번호'] == 2003]\n",
    "busstop2 = busstop[busstop['버스정류장ARS번호'] == 2006]\n",
    "busstop3 = busstop[busstop['버스정류장ARS번호'] == 2282]\n",
    "\n",
    "busstop1 = busstop1[['탑승일자', '총승객수']]\n",
    "busstop2 = busstop2[['탑승일자', '총승객수']]\n",
    "busstop3 = busstop3[['탑승일자', '총승객수']]"
   ]
  },
  {
   "cell_type": "code",
   "execution_count": null,
   "metadata": {},
   "outputs": [],
   "source": [
    "busstop1 = busstop1.rename(columns={'총승객수' : '버스정류장1_총승객수'})\n",
    "busstop1.head()"
   ]
  },
  {
   "cell_type": "code",
   "execution_count": null,
   "metadata": {},
   "outputs": [],
   "source": [
    "df2['탑승일자'] = pd.to_datetime(df2['탑승일자'])"
   ]
  },
  {
   "cell_type": "code",
   "execution_count": null,
   "metadata": {},
   "outputs": [],
   "source": [
    "df2 = pd.merge(df2, busstop1, how='outer', on='탑승일자')\n",
    "df2.head(10)"
   ]
  },
  {
   "cell_type": "code",
   "execution_count": null,
   "metadata": {},
   "outputs": [],
   "source": [
    "busstop2 = busstop2.rename(columns={'총승객수' : '버스정류장2_총승객수'})\n",
    "df2 = pd.merge(df2, busstop2, how='outer', on='탑승일자')\n",
    "df2"
   ]
  },
  {
   "cell_type": "code",
   "execution_count": null,
   "metadata": {},
   "outputs": [],
   "source": [
    "busstop3 = busstop3.rename(columns={'총승객수' : '버스정류장3_총승객수'})\n",
    "df2 = pd.merge(df2, busstop3, how='outer', on='탑승일자')\n",
    "df2"
   ]
  },
  {
   "cell_type": "code",
   "execution_count": null,
   "metadata": {},
   "outputs": [],
   "source": [
    "df2.isnull().sum()"
   ]
  },
  {
   "cell_type": "code",
   "execution_count": null,
   "metadata": {},
   "outputs": [],
   "source": [
    "df2.head()"
   ]
  },
  {
   "cell_type": "code",
   "execution_count": null,
   "metadata": {},
   "outputs": [],
   "source": [
    "import numpy as np\n",
    "\n",
    "df2[df2['4호선'].isnull()]"
   ]
  },
  {
   "cell_type": "code",
   "execution_count": null,
   "metadata": {},
   "outputs": [],
   "source": [
    "df2[df2['공항철도'].isnull()]"
   ]
  },
  {
   "cell_type": "code",
   "execution_count": null,
   "metadata": {},
   "outputs": [],
   "source": [
    "tmp1 = df2[df2['탑승일자'] == '2020-04-20']['4호선'].reset_index(drop=True)\n",
    "tmp2 = df2[df2['탑승일자'] == '2020-04-22']['4호선'].reset_index(drop=True)\n",
    "tmp = tmp1[0] + tmp2[0] / 2\n",
    "\n",
    "df2['4호선'] = df2['4호선'].fillna(tmp)"
   ]
  },
  {
   "cell_type": "code",
   "execution_count": null,
   "metadata": {},
   "outputs": [],
   "source": [
    "tmp1 = df2[df2['탑승일자'] == '2020-04-20']['공항철도'].reset_index(drop=True)\n",
    "tmp2 = df2[df2['탑승일자'] == '2020-04-22']['공항철도'].reset_index(drop=True)\n",
    "tmp = tmp1[0] + tmp2[0] / 2\n",
    "\n",
    "df2['공항철도'] = df2['공항철도'].fillna(tmp)"
   ]
  },
  {
   "cell_type": "code",
   "execution_count": null,
   "metadata": {},
   "outputs": [],
   "source": [
    "df2.isnull().sum()"
   ]
  },
  {
   "cell_type": "code",
   "execution_count": null,
   "metadata": {},
   "outputs": [],
   "source": [
    "df2[df2['버스정류장1_총승객수'].isnull()]"
   ]
  },
  {
   "cell_type": "code",
   "execution_count": null,
   "metadata": {},
   "outputs": [],
   "source": [
    "# 날짜 기준으로 정렬 (필수)\n",
    "df2 = df2.sort_values(by='탑승일자')\n",
    "\n",
    "# 하루 전, 하루 후의 값 가져오기\n",
    "df2['버스정류장1_총승객수_전날'] = df2['버스정류장1_총승객수'].shift(1)\n",
    "df2['버스정류장1_총승객수_다음날'] = df2['버스정류장1_총승객수'].shift(-1)\n",
    "\n",
    "# 결측치 채우기: 하루 전과 다음 날의 평균값 사용\n",
    "df2['버스정류장1_총승객수'] = df2['버스정류장1_총승객수'].fillna(\n",
    "    (df2['버스정류장1_총승객수_전날'] + df2['버스정류장1_총승객수_다음날']) / 2\n",
    ")\n",
    "\n",
    "# 불필요한 보조 열 제거\n",
    "df2 = df2.drop(columns=['버스정류장1_총승객수_전날', '버스정류장1_총승객수_다음날'])\n",
    "print(df2.isnull().sum())"
   ]
  },
  {
   "cell_type": "code",
   "execution_count": null,
   "metadata": {},
   "outputs": [],
   "source": [
    "# 날짜 기준으로 정렬 (필수)\n",
    "df2 = df2.sort_values(by='탑승일자')\n",
    "\n",
    "# 하루 전, 하루 후의 값 가져오기\n",
    "df2['버스정류장2_총승객수_전날'] = df2['버스정류장2_총승객수'].shift(1)\n",
    "df2['버스정류장2_총승객수_다음날'] = df2['버스정류장2_총승객수'].shift(-1)\n",
    "\n",
    "# 결측치 채우기: 하루 전과 다음 날의 평균값 사용\n",
    "df2['버스정류장2_총승객수'] = df2['버스정류장2_총승객수'].fillna(\n",
    "    (df2['버스정류장2_총승객수_전날'] + df2['버스정류장2_총승객수_다음날']) / 2\n",
    ")\n",
    "\n",
    "# 불필요한 보조 열 제거\n",
    "df2 = df2.drop(columns=['버스정류장2_총승객수_전날', '버스정류장2_총승객수_다음날'])\n",
    "print(df2.isnull().sum())"
   ]
  },
  {
   "cell_type": "code",
   "execution_count": null,
   "metadata": {},
   "outputs": [],
   "source": [
    "# 날짜 기준으로 정렬 (필수)\n",
    "df2 = df2.sort_values(by='탑승일자')\n",
    "\n",
    "# 하루 전, 하루 후의 값 가져오기\n",
    "df2['버스정류장3_총승객수_전날'] = df2['버스정류장3_총승객수'].shift(1)\n",
    "df2['버스정류장3_총승객수_다음날'] = df2['버스정류장3_총승객수'].shift(-1)\n",
    "\n",
    "# 결측치 채우기: 하루 전과 다음 날의 평균값 사용\n",
    "df2['버스정류장3_총승객수'] = df2['버스정류장3_총승객수'].fillna(\n",
    "    (df2['버스정류장3_총승객수_전날'] + df2['버스정류장3_총승객수_다음날']) / 2\n",
    ")\n",
    "\n",
    "# 불필요한 보조 열 제거\n",
    "df2 = df2.drop(columns=['버스정류장3_총승객수_전날', '버스정류장3_총승객수_다음날'])\n",
    "print(df2.isnull().sum())"
   ]
  },
  {
   "cell_type": "code",
   "execution_count": null,
   "metadata": {},
   "outputs": [],
   "source": [
    "# 날짜 기준으로 정렬 (필수)\n",
    "df2 = df2.sort_values(by='탑승일자')\n",
    "\n",
    "# 하루 전, 하루 후의 값 가져오기\n",
    "df2['버스정류장3_총승객수_전날'] = df2['버스정류장3_총승객수'].shift(1)\n",
    "df2['버스정류장3_총승객수_다음날'] = df2['버스정류장3_총승객수'].shift(-1)\n",
    "\n",
    "# 결측치 채우기: 하루 전과 다음 날의 평균값 사용\n",
    "df2['버스정류장3_총승객수'] = df2['버스정류장3_총승객수'].fillna(\n",
    "    (df2['버스정류장3_총승객수_전날'] + df2['버스정류장3_총승객수_다음날']) / 2\n",
    ")\n",
    "\n",
    "# 불필요한 보조 열 제거\n",
    "df2 = df2.drop(columns=['버스정류장3_총승객수_전날', '버스정류장3_총승객수_다음날'])\n",
    "print(df2.isnull().sum())"
   ]
  },
  {
   "cell_type": "markdown",
   "metadata": {},
   "source": [
    "## 경의선"
   ]
  },
  {
   "cell_type": "code",
   "execution_count": 56,
   "metadata": {},
   "outputs": [],
   "source": [
    "import pandas as pd\n",
    "\n",
    "df2 = pd.read_csv(\"dataTotal.csv\")"
   ]
  },
  {
   "cell_type": "code",
   "execution_count": 57,
   "metadata": {},
   "outputs": [
    {
     "name": "stdout",
     "output_type": "stream",
     "text": [
      "            탑승일자  경의선    이전_값    다음_값\n",
      "542   2016-05-22  NaN     3.0  2723.0\n",
      "549   2016-05-29  NaN     3.0  2579.0\n",
      "555   2016-06-04  NaN  2133.0     1.0\n",
      "562   2016-06-11  NaN  2183.0     NaN\n",
      "563   2016-06-12  NaN     NaN  2504.0\n",
      "570   2016-06-19  NaN     1.0  2470.0\n",
      "576   2016-06-25  NaN  1927.0     NaN\n",
      "577   2016-06-26  NaN     NaN  2359.0\n",
      "583   2016-07-02  NaN  1788.0     NaN\n",
      "584   2016-07-03  NaN     NaN  2311.0\n",
      "591   2016-07-10  NaN     3.0  2329.0\n",
      "1093  2017-11-24  NaN  7375.0     NaN\n",
      "1094  2017-11-25  NaN     NaN     1.0\n",
      "2200  2020-04-21  NaN  8426.0  8197.0\n"
     ]
    },
    {
     "name": "stderr",
     "output_type": "stream",
     "text": [
      "/var/folders/j5/2p33mq0s3pbg5spm_mqqxgw00000gn/T/ipykernel_91559/3048235360.py:8: SettingWithCopyWarning: \n",
      "A value is trying to be set on a copy of a slice from a DataFrame.\n",
      "Try using .loc[row_indexer,col_indexer] = value instead\n",
      "\n",
      "See the caveats in the documentation: https://pandas.pydata.org/pandas-docs/stable/user_guide/indexing.html#returning-a-view-versus-a-copy\n",
      "  missing_values['이전_값'] = missing_values.index.map(lambda idx: df2['경의선'].shift(1).loc[idx])\n",
      "/var/folders/j5/2p33mq0s3pbg5spm_mqqxgw00000gn/T/ipykernel_91559/3048235360.py:9: SettingWithCopyWarning: \n",
      "A value is trying to be set on a copy of a slice from a DataFrame.\n",
      "Try using .loc[row_indexer,col_indexer] = value instead\n",
      "\n",
      "See the caveats in the documentation: https://pandas.pydata.org/pandas-docs/stable/user_guide/indexing.html#returning-a-view-versus-a-copy\n",
      "  missing_values['다음_값'] = missing_values.index.map(lambda idx: df2['경의선'].shift(-1).loc[idx])\n"
     ]
    }
   ],
   "source": [
    "# 날짜 기준으로 정렬 (필수)\n",
    "df2 = df2.sort_values(by='탑승일자')\n",
    "\n",
    "# 결측치가 있는 행을 필터링\n",
    "missing_values = df2[df2['경의선'].isnull()]\n",
    "\n",
    "# 결측치 바로 전날과 다음날 값을 가져오기\n",
    "missing_values['이전_값'] = missing_values.index.map(lambda idx: df2['경의선'].shift(1).loc[idx])\n",
    "missing_values['다음_값'] = missing_values.index.map(lambda idx: df2['경의선'].shift(-1).loc[idx])\n",
    "\n",
    "# 결과 출력\n",
    "print(missing_values[['탑승일자', '경의선', '이전_값', '다음_값']])"
   ]
  },
  {
   "cell_type": "code",
   "execution_count": 58,
   "metadata": {},
   "outputs": [],
   "source": [
    "# 날짜 기준 정렬 (필수)\n",
    "df2 = df2.sort_values(by='탑승일자')\n",
    "\n",
    "# 결측치 처리: 전날 값과 다음 날 값을 가져오기\n",
    "df2['이전_값'] = df2['경의선'].shift(1)  # 바로 전날 값\n",
    "df2['다음_값'] = df2['경의선'].shift(-1)  # 바로 다음 날 값\n",
    "\n",
    "# 결측치 채우기: 전날 값과 다음 날 값 중 더 큰 값을 선택\n",
    "df2['경의선'] = df2['경의선'].fillna(df2[['이전_값', '다음_값']].max(axis=1))\n",
    "\n",
    "# 불필요한 보조 열 제거\n",
    "df2 = df2.drop(columns=['이전_값', '다음_값'])"
   ]
  },
  {
   "cell_type": "code",
   "execution_count": 60,
   "metadata": {},
   "outputs": [],
   "source": [
    "df2 = df2.drop(labels='Unnamed: 0', axis=1)"
   ]
  },
  {
   "cell_type": "code",
   "execution_count": 61,
   "metadata": {},
   "outputs": [
    {
     "data": {
      "text/plain": [
       "탑승일자           0\n",
       "1호선            0\n",
       "4호선            0\n",
       "공항철도           0\n",
       "경의선            0\n",
       "강수량범주          0\n",
       "평균기온           0\n",
       "최고기온           0\n",
       "최저기온           0\n",
       "버스정류장1_총승객수    0\n",
       "버스정류장2_총승객수    0\n",
       "버스정류장3_총승객수    0\n",
       "dtype: int64"
      ]
     },
     "execution_count": 61,
     "metadata": {},
     "output_type": "execute_result"
    }
   ],
   "source": [
    "df2.isnull().sum()"
   ]
  },
  {
   "cell_type": "code",
   "execution_count": 62,
   "metadata": {},
   "outputs": [],
   "source": [
    "df2 = df2.set_index('탑승일자')"
   ]
  },
  {
   "cell_type": "code",
   "execution_count": 63,
   "metadata": {},
   "outputs": [],
   "source": [
    "df2.to_csv(\"dataTotal.csv\")"
   ]
  }
 ],
 "metadata": {
  "kernelspec": {
   "display_name": "myenv",
   "language": "python",
   "name": "python3"
  },
  "language_info": {
   "codemirror_mode": {
    "name": "ipython",
    "version": 3
   },
   "file_extension": ".py",
   "mimetype": "text/x-python",
   "name": "python",
   "nbconvert_exporter": "python",
   "pygments_lexer": "ipython3",
   "version": "3.12.5"
  }
 },
 "nbformat": 4,
 "nbformat_minor": 2
}
