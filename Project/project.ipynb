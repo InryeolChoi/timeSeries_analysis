{
 "cells": [
  {
   "cell_type": "markdown",
   "metadata": {},
   "source": [
    "## 필요한 패키지들"
   ]
  },
  {
   "cell_type": "code",
   "execution_count": 3,
   "metadata": {},
   "outputs": [],
   "source": [
    "import pandas as pd\n",
    "import numpy as np\n",
    "import matplotlib.pyplot as plt"
   ]
  },
  {
   "cell_type": "markdown",
   "metadata": {},
   "source": [
    "## 개요\n",
    "프로젝트의 목표 : 수도권 지하철 중 4개 노선 이상의 환승역 수요 예측\n",
    "\n",
    "<환승역 목록>\n",
    "1. 공덕역 : 5, 6, 공항철도, 경의중앙\n",
    "2. 서울역 : 1, 4, 공항철도, 경의중앙\n",
    "3. 왕십리역 : 2, 5, 경의중앙, 수인분당\n",
    "4. 청량리역 : 1, 경의중앙, 수인분당, 경춘\n",
    "5. 김포공항역 : 5, 9, 공항철도, 김포골드라인, 서해\n",
    "\n",
    "반응변수(X) : 역별 일별 승하차 데이터, 날씨 데이터\n",
    "\n",
    "예측변수(y) : 추후 4개 노선의 환승역이 될 데이터"
   ]
  },
  {
   "cell_type": "markdown",
   "metadata": {},
   "source": [
    "# EDA"
   ]
  }
 ],
 "metadata": {
  "kernelspec": {
   "display_name": "myenv",
   "language": "python",
   "name": "python3"
  },
  "language_info": {
   "codemirror_mode": {
    "name": "ipython",
    "version": 3
   },
   "file_extension": ".py",
   "mimetype": "text/x-python",
   "name": "python",
   "nbconvert_exporter": "python",
   "pygments_lexer": "ipython3",
   "version": "3.12.5"
  }
 },
 "nbformat": 4,
 "nbformat_minor": 2
}
